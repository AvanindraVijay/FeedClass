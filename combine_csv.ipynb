{
 "cells": [
  {
   "cell_type": "code",
   "execution_count": null,
   "id": "27edf040",
   "metadata": {},
   "outputs": [
    {
     "name": "stdout",
     "output_type": "stream",
     "text": [
      "               uniqid                                        description  \\\n",
      "0      GRV2024/100361  Grievance is related to latest recruitment rul...   \n",
      "1      GRV2024/100361  Grievance is related to latest recruitment rul...   \n",
      "2      GRV2024/100361  Grievance is related to latest recruitment rul...   \n",
      "3      GRV2024/100361  Grievance is related to latest recruitment rul...   \n",
      "4      GRV2024/100361  Grievance is related to latest recruitment rul...   \n",
      "...               ...                                                ...   \n",
      "25504  RBTC2025/22274  We are facing an issue in our yard where rainw...   \n",
      "25505  RBTC2025/22274  We are facing an issue in our yard where rainw...   \n",
      "25506  RBTC2025/22274  We are facing an issue in our yard where rainw...   \n",
      "25507  RBTC2025/22274  We are facing an issue in our yard where rainw...   \n",
      "25508  RBTC2025/22274  We are facing an issue in our yard where rainw...   \n",
      "\n",
      "                                            action_taken  \\\n",
      "0                                   Submitted by citizen   \n",
      "1                                                    NaN   \n",
      "2      Application forwarded to :- Dr. Joginder Singh...   \n",
      "3                                                    NaN   \n",
      "4                                           Remark Added   \n",
      "...                                                  ...   \n",
      "25504  Application forwarded to :- Shabir Hussain Bha...   \n",
      "25505  Application forwarded to :- Shabir Ahmad Hakak...   \n",
      "25506                             Grievance Acknowledged   \n",
      "25507                                           Resolved   \n",
      "25508                                           Resolved   \n",
      "\n",
      "                                                 remarks satisfied  \n",
      "0                                                    NaN        No  \n",
      "1                                                    NaN        No  \n",
      "2             Immediate Action. Please check the matter.        No  \n",
      "3                                                    NaN        No  \n",
      "4      I am directed to intimate that no amendments a...        No  \n",
      "...                                                  ...       ...  \n",
      "25504                     Kindly resolve at an earliest.        No  \n",
      "25505  with the request to furnish the reply of the a...        No  \n",
      "25506    Grievance has been acknowledged by the officer.        No  \n",
      "25507  the report of the bdo is attached for favour o...        No  \n",
      "25508  The grievance is disposed off on the basis of ...        No  \n",
      "\n",
      "[25509 rows x 5 columns]\n",
      "File saved successfully at: E:\\newJKproject\\data\\combined_output.csv\n"
     ]
    }
   ],
   "source": [
    "import pandas as pd\n",
    "import os\n",
    "\n",
    "\n",
    "grievance_df = pd.read_csv(\"userdata.csv\")\n",
    "remark_df = pd.read_csv(\"departmentdata.csv\")\n",
    "feedback_df = pd.read_csv(\"userfeedback.csv\")\n",
    "\n",
    "\n",
    "combined_df = pd.merge(grievance_df, remark_df, on='uniqid', how='outer')\n",
    "combined_df = pd.merge(combined_df, feedback_df, on='uniqid', how='outer')\n",
    "\n",
    "\n",
    "print(combined_df)\n",
    "\n",
    "\n",
    "output_dir = r\"E:\\newJKproject\\data\"\n",
    "output_path = os.path.join(output_dir, \"combined_output.csv\")\n",
    "\n",
    "\n",
    "os.makedirs(output_dir, exist_ok=True)\n",
    "\n",
    "\n",
    "combined_df.to_csv(output_path, index=False)\n",
    "\n",
    "print(f\"File saved successfully at: {output_path}\")\n"
   ]
  },
  {
   "cell_type": "code",
   "execution_count": null,
   "id": "cb4abf60",
   "metadata": {},
   "outputs": [
    {
     "name": "stdout",
     "output_type": "stream",
     "text": [
      "Cleaned and saved as 'cleaned_file.csv'\n",
      "File saved successfully at: E:\\newJKproject\\data\\cleaned_file.csv\n"
     ]
    }
   ],
   "source": [
    "import pandas as pd\n",
    "import re\n",
    "import os\n",
    "\n",
    "\n",
    "df = pd.read_csv(\"combined_output.csv\")  \n",
    "\n",
    "\n",
    "df['remarks'] = df['remarks'].fillna('null')\n",
    "\n",
    "\n",
    "df = df.drop(columns=[col for col in df.columns if col == 'action_taken'], errors='ignore')\n",
    "\n",
    "\n",
    "def clean_text(text):\n",
    "    if pd.isnull(text):\n",
    "        return ''\n",
    "    text = str(text)\n",
    "    text = re.sub(r'[\\n\\r\\t]+', ' ', text)  \n",
    "    text = re.sub(r'[-\\.]+', ' ', text)\n",
    "    text = re.sub(r'\\s+', ' ', text)        \n",
    "    return text.strip()\n",
    "\n",
    "# Apply cleaning to 'remarks' and 'description'\n",
    "df['remarks'] = df['remarks'].apply(clean_text)\n",
    "df['description'] = df['description'].apply(clean_text)\n",
    "\n",
    "# Save locally first (optional)\n",
    "df.to_csv(\"cleaned_file.csv\", index=False)\n",
    "print(\"Cleaned and saved as 'cleaned_file.csv'\")\n",
    "\n",
    "# Save to target directory\n",
    "output_dir = r\"E:\\newJKproject\\data\"\n",
    "output_path = os.path.join(output_dir, \"cleaned_file.csv\")\n",
    "os.makedirs(output_dir, exist_ok=True)\n",
    "\n",
    "# ✅ Corrected this line to save the cleaned DataFrame\n",
    "df.to_csv(output_path, index=False)\n",
    "\n",
    "print(f\"File saved successfully at: {output_path}\")\n"
   ]
  },
  {
   "cell_type": "code",
   "execution_count": null,
   "id": "6109ba1e",
   "metadata": {},
   "outputs": [],
   "source": []
  }
 ],
 "metadata": {
  "kernelspec": {
   "display_name": "nltk_env",
   "language": "python",
   "name": "python3"
  },
  "language_info": {
   "codemirror_mode": {
    "name": "ipython",
    "version": 3
   },
   "file_extension": ".py",
   "mimetype": "text/x-python",
   "name": "python",
   "nbconvert_exporter": "python",
   "pygments_lexer": "ipython3",
   "version": "3.9.21"
  }
 },
 "nbformat": 4,
 "nbformat_minor": 5
}
